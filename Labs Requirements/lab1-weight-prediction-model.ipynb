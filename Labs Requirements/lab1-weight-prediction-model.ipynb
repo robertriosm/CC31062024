{
 "cells": [
  {
   "cell_type": "code",
   "execution_count": 1,
   "id": "5dbab1858faf6182",
   "metadata": {},
   "outputs": [],
   "source": [
    "import math\n",
    "import pandas as pd\n",
    "from sklearn import linear_model\n",
    "from sklearn.metrics import mean_absolute_error\n",
    "import matplotlib.pyplot as plt\n",
    "from scipy.stats import pearsonr"
   ]
  },
  {
   "cell_type": "code",
   "execution_count": 4,
   "id": "d9a83f1ab1a45fd2",
   "metadata": {},
   "outputs": [
    {
     "data": {
      "text/html": [
       "<div>\n",
       "<style scoped>\n",
       "    .dataframe tbody tr th:only-of-type {\n",
       "        vertical-align: middle;\n",
       "    }\n",
       "\n",
       "    .dataframe tbody tr th {\n",
       "        vertical-align: top;\n",
       "    }\n",
       "\n",
       "    .dataframe thead th {\n",
       "        text-align: right;\n",
       "    }\n",
       "</style>\n",
       "<table border=\"1\" class=\"dataframe\">\n",
       "  <thead>\n",
       "    <tr style=\"text-align: right;\">\n",
       "      <th></th>\n",
       "      <th>Height(Inches)</th>\n",
       "      <th>Weight(Pounds)</th>\n",
       "    </tr>\n",
       "  </thead>\n",
       "  <tbody>\n",
       "    <tr>\n",
       "      <th>0</th>\n",
       "      <td>65.78</td>\n",
       "      <td>112.99</td>\n",
       "    </tr>\n",
       "    <tr>\n",
       "      <th>1</th>\n",
       "      <td>71.52</td>\n",
       "      <td>136.49</td>\n",
       "    </tr>\n",
       "    <tr>\n",
       "      <th>2</th>\n",
       "      <td>69.40</td>\n",
       "      <td>153.03</td>\n",
       "    </tr>\n",
       "    <tr>\n",
       "      <th>3</th>\n",
       "      <td>68.22</td>\n",
       "      <td>142.34</td>\n",
       "    </tr>\n",
       "    <tr>\n",
       "      <th>4</th>\n",
       "      <td>67.79</td>\n",
       "      <td>144.30</td>\n",
       "    </tr>\n",
       "    <tr>\n",
       "      <th>...</th>\n",
       "      <td>...</td>\n",
       "      <td>...</td>\n",
       "    </tr>\n",
       "    <tr>\n",
       "      <th>195</th>\n",
       "      <td>65.80</td>\n",
       "      <td>120.84</td>\n",
       "    </tr>\n",
       "    <tr>\n",
       "      <th>196</th>\n",
       "      <td>66.11</td>\n",
       "      <td>115.78</td>\n",
       "    </tr>\n",
       "    <tr>\n",
       "      <th>197</th>\n",
       "      <td>68.24</td>\n",
       "      <td>128.30</td>\n",
       "    </tr>\n",
       "    <tr>\n",
       "      <th>198</th>\n",
       "      <td>68.02</td>\n",
       "      <td>127.47</td>\n",
       "    </tr>\n",
       "    <tr>\n",
       "      <th>199</th>\n",
       "      <td>71.39</td>\n",
       "      <td>127.88</td>\n",
       "    </tr>\n",
       "  </tbody>\n",
       "</table>\n",
       "<p>200 rows × 2 columns</p>\n",
       "</div>"
      ],
      "text/plain": [
       "     Height(Inches)  Weight(Pounds)\n",
       "0             65.78          112.99\n",
       "1             71.52          136.49\n",
       "2             69.40          153.03\n",
       "3             68.22          142.34\n",
       "4             67.79          144.30\n",
       "..              ...             ...\n",
       "195           65.80          120.84\n",
       "196           66.11          115.78\n",
       "197           68.24          128.30\n",
       "198           68.02          127.47\n",
       "199           71.39          127.88\n",
       "\n",
       "[200 rows x 2 columns]"
      ]
     },
     "execution_count": 4,
     "metadata": {},
     "output_type": "execute_result"
    }
   ],
   "source": [
    "# 0. Cargar los datos de estatura y peso\n",
    "url = 'http://wiki.stat.ucla.edu/socr/index.php/SOCR_Data_Dinov_020108_HeightsWeights'\n",
    "\n",
    "height_weight_df = pd.read_html(url)[1][['Height(Inches)','Weight(Pounds)']]\n",
    "height_weight_df"
   ]
  },
  {
   "cell_type": "code",
   "execution_count": 5,
   "id": "dc4ed125ad17f865",
   "metadata": {},
   "outputs": [
    {
     "data": {
      "text/plain": [
       "(200, 2)"
      ]
     },
     "execution_count": 5,
     "metadata": {},
     "output_type": "execute_result"
    }
   ],
   "source": [
    "# 1. Count records in the dataframe\n",
    "\n",
    "height_weight_df.shape"
   ]
  },
  {
   "cell_type": "code",
   "execution_count": 6,
   "id": "0766cdbe",
   "metadata": {},
   "outputs": [
    {
     "data": {
      "text/plain": [
       "0.31009833265482667"
      ]
     },
     "execution_count": 6,
     "metadata": {},
     "output_type": "execute_result"
    }
   ],
   "source": [
    " # 2. Crear una regresion lineal con estatura como variable explicatoria y peso como variable explicada\n",
    "\n",
    "X = height_weight_df[['Height(Inches)']]\n",
    "y = height_weight_df['Weight(Pounds)']\n",
    "\n",
    "model = linear_model.LinearRegression()\n",
    "\n",
    "reg = model.fit(X, y)\n",
    "reg.score(X, y)"
   ]
  },
  {
   "cell_type": "code",
   "execution_count": 7,
   "id": "751de408",
   "metadata": {},
   "outputs": [
    {
     "data": {
      "text/plain": [
       "np.float64(-106.02770644878126)"
      ]
     },
     "execution_count": 7,
     "metadata": {},
     "output_type": "execute_result"
    }
   ],
   "source": [
    "# 3. Hallar el intercepto\n",
    "reg.intercept_"
   ]
  },
  {
   "cell_type": "code",
   "execution_count": 11,
   "id": "578f729b",
   "metadata": {},
   "outputs": [
    {
     "data": {
      "text/plain": [
       "[<matplotlib.lines.Line2D at 0x1cd75722ea0>]"
      ]
     },
     "execution_count": 11,
     "metadata": {},
     "output_type": "execute_result"
    },
    {
     "data": {
      "image/png": "[encoded data removed]",
      "text/plain": [
       "<Figure size 640x480 with 1 Axes>"
      ]
     },
     "metadata": {},
     "output_type": "display_data"
    }
   ],
   "source": [
    "# 4. Hacer la grafica\n",
    "plt.scatter(X, y, color='red')\n",
    "\n",
    "# 80 20 split \n",
    "# Split the data into training/testing sets\n",
    "X_train = X[:-40]\n",
    "X_test = X[-40:]\n",
    "\n",
    "# Split the targets into training/testing sets\n",
    "y_train = y[:-40]\n",
    "y_test = y[-40:]\n",
    "\n",
    "# Make predictions using the testing set\n",
    "y_pred = reg.predict(X_test)\n",
    "\n",
    "plt.plot(X_test, y_pred, color=\"blue\", linewidth=3)"
   ]
  },
  {
   "cell_type": "code",
   "execution_count": 9,
   "id": "bab04cfb",
   "metadata": {},
   "outputs": [
    {
     "data": {
      "text/plain": [
       "PearsonRResult(statistic=np.float64(0.5568647346122992), pvalue=np.float64(1.1029015151266312e-17))"
      ]
     },
     "execution_count": 9,
     "metadata": {},
     "output_type": "execute_result"
    }
   ],
   "source": [
    "# 5. Hallar correlacion y valor p\n",
    "pearsonr(X['Height(Inches)'], y)"
   ]
  },
  {
   "cell_type": "code",
   "execution_count": 10,
   "id": "e3f41aa7",
   "metadata": {},
   "outputs": [
    {
     "data": {
      "text/plain": [
       "np.float64(7.758737380388219)"
      ]
     },
     "execution_count": 10,
     "metadata": {},
     "output_type": "execute_result"
    }
   ],
   "source": [
    "mean_absolute_error(y, reg.predict(X))"
   ]
  },
  {
   "cell_type": "markdown",
   "id": "cd817563",
   "metadata": {},
   "source": [
    "# 6. Interpretar el valor p\n",
    "\n",
    "### Resultados\n",
    "\n",
    "- **Correlacion de Pearson**: 0.5568647346122992, mide la fuerza y dirección de la relación lineal entre dos variables.\n",
    "\n",
    "- **Valor p**: 1.1029015151266312e-17 indica la significancia de la correlación.\n",
    "\n",
    "- **Score (R^2)**: 0.31009833265482667 mide la proporción de la varianza en la variable dependiente que es predecible a partir de la variable independiente.\n",
    "\n",
    "- **Intercepto**: -106.02770644 es el valor de la intersección en el eje y de la línea de regresión.\n",
    "\n",
    "- **Forma del dataset**: (200, 2) indica que tu dataset tiene 200 filas y 2 columnas.\n",
    "\n",
    "\n",
    "### Interpretación \n",
    "\n",
    "El valor p es una medida que determina la significancia de los resultados. Es la probabilidad de obtener un resultado al menos tan extremo como el observado, bajo la suposición de que la hipótesis nula es verdadera. Mide la evidencia en contra de la hipótesis nula.\n",
    "\n",
    "- **Valor p bajo (por ejemplo, < 0.05)**: Indica que hay suficiente evidencia para rechazar la hipótesis nula. En este caso, el valor p es extremadamente bajo (1.1029015151266312e-17), lo que sugiere que la correlación observada no es debida al azar.\n",
    "- **Valor p alto (por ejemplo, > 0.05)**: Indica que no hay suficiente evidencia para rechazar la hipótesis nula. \n",
    "\n",
    "Los resultados sugieren una correlación significativa entre las variables analizadas, con un coeficiente de correlación de Pearson moderado y un valor p bajo, lo que indica que la correlación observada no es debida al azar. Esto tambien puede inspeccionarse en la grafica generada.\n",
    "\n",
    "\n",
    "### Referencias\n",
    "- Cómo Interpretar Correctamente los Valores P - Minitab. https://blog.minitab.com/es/como-interpretar-correctamente-los-valores-p.\n",
    "- https://scikit-learn.org/stable/auto_examples/linear_model/plot_ols.html\n",
    "- https://scikit-learn.org/stable/modules/generated/sklearn.linear_model.LinearRegression.html#sklearn.linear_model.LinearRegression \n"
   ]
  }
 ],
 "metadata": {
  "kernelspec": {
   "display_name": "Python 3",
   "language": "python",
   "name": "python3"
  },
  "language_info": {
   "codemirror_mode": {
    "name": "ipython",
    "version": 3
   },
   "file_extension": ".py",
   "mimetype": "text/x-python",
   "name": "python",
   "nbconvert_exporter": "python",
   "pygments_lexer": "ipython3",
   "version": "3.12.4"
  }
 },
 "nbformat": 4,
 "nbformat_minor": 5
}
